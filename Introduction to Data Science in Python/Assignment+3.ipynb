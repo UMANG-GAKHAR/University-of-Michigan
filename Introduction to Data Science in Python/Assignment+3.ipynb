{
 "cells": [
  {
   "cell_type": "markdown",
   "metadata": {},
   "source": [
    "---\n",
    "\n",
    "_You are currently looking at **version 1.5** of this notebook. To download notebooks and datafiles, as well as get help on Jupyter notebooks in the Coursera platform, visit the [Jupyter Notebook FAQ](https://www.coursera.org/learn/python-data-analysis/resources/0dhYG) course resource._\n",
    "\n",
    "---"
   ]
  },
  {
   "cell_type": "markdown",
   "metadata": {},
   "source": [
    "# Assignment 3 - More Pandas\n",
    "This assignment requires more individual learning then the last one did - you are encouraged to check out the [pandas documentation](http://pandas.pydata.org/pandas-docs/stable/) to find functions or methods you might not have used yet, or ask questions on [Stack Overflow](http://stackoverflow.com/) and tag them as pandas and python related. And of course, the discussion forums are open for interaction with your peers and the course staff."
   ]
  },
  {
   "cell_type": "code",
   "execution_count": 1,
   "metadata": {
    "collapsed": true,
    "umich_part_id": "009",
    "umich_partlist_id": "003"
   },
   "outputs": [],
   "source": [
    "def answer_one():\n",
    "    import pandas as pd\n",
    "    import numpy as np\n",
    "    \n",
    "    energy = pd.read_excel(\"Energy Indicators.xls\",skip_footer=38,skip_header=1,skiprows=17) # Skip header and footer\n",
    "\n",
    "    #energy.head()\n",
    "    #type(energy) #DataFrame\n",
    "\n",
    "    energy.drop(energy.columns[[0,1]],axis=1,inplace=True) # Drop first 2 columns\n",
    "\n",
    "    energy.columns = ['Country', 'Energy Supply', 'Energy Supply per Capita', '% Renewable']\n",
    "    \n",
    "    energy['Energy Supply'] *= 1000000 # Convert from petajoues to gigajoules.\n",
    "\n",
    "    energy.dropna() # Drop rows with NaN values.\n",
    "\n",
    "    energy['Country'] = energy['Country'].str.replace(r'\\(.*\\)', '') # Remove contents within parenthesis.\n",
    "    energy['Country'] = energy['Country'].str.replace('\\d+', '') # Remove digits from names\n",
    "    \n",
    "    # This brings the Iran energy values back! Iran is listed as \"Iran (Islamic Republic of)\" in the energy data! So removing\n",
    "    # the parentheses still leaves a space after Iran (\"Iran \") which is why Iran's energy values don't appear properly.\n",
    "    energy['Country'] = energy['Country'].str.strip()\n",
    "    \n",
    "    # Turn blank values into NaN\n",
    "    for col in energy:\n",
    "        energy[col] = energy[col].replace('...',np.nan)\n",
    "\n",
    "    energy['Country'] = energy['Country'].str.replace('Republic of Korea','South Korea')\n",
    "    energy['Country'] = energy['Country'].str.replace('United States of America','United States')\n",
    "    energy['Country'] = energy['Country'].str.replace('United Kingdom of Great Britain and Northern Ireland','United Kingdom')\n",
    "    energy['Country'] = energy['Country'].str.replace('China, Hong Kong Special Administrative Region','Hong Kong')\n",
    "    \n",
    "\n",
    "    # GDP:\n",
    "\n",
    "    GDP = pd.read_csv('world_bank.csv', skiprows=3) # Skip header\n",
    "\n",
    "    # Make first row the column names\n",
    "    new_header = GDP.iloc[0]\n",
    "    GDP = GDP[1:]\n",
    "    GDP.columns = new_header\n",
    "\n",
    "    #GDP = GDP.rename(index=str,columns = {\"Country Name\":\"Country\"})\n",
    "\n",
    "    GDP['Country Name'] = GDP['Country Name'].str.replace('Korea, Rep.','South Korea')\n",
    "    GDP['Country Name'] = GDP['Country Name'].str.replace('Iran, Islamic Rep.','Iran')\n",
    "    GDP['Country Name'] = GDP['Country Name'].str.replace('Hong Kong SAR, China','Hong Kong')\n",
    "\n",
    "    # Change column name from 'Country Name' to 'Country' for merging 3 files on country name.\n",
    "    names = GDP.columns.tolist()\n",
    "    names[names.index('Country Name')] = 'Country'\n",
    "    GDP.columns = names\n",
    "\n",
    "    # Only keep the columns from 2006-15. Drop column number 1 to 50. Don't need country code, etc.\n",
    "    GDP = GDP.drop(GDP.iloc[:,1:50], axis=1)\n",
    "    \n",
    "    GDP.columns = GDP.columns.astype(str).str.split('.').str[0] # Remove '.0' at the end of the year columns.    \n",
    "    \n",
    "    # SCIMEN:\n",
    "\n",
    "    ScimEn = pd.read_excel('scimagojr-3.xlsx')\n",
    "    #ScimEn = ScimEn[:15] # Only top 15 countries\n",
    "    #ScimEn\n",
    "\n",
    "    # MERGING:\n",
    "\n",
    "    master = pd.merge(ScimEn,energy,how='outer',left_on='Country',right_on='Country')\n",
    "    master1 = pd.merge(master,GDP,how='outer',left_on='Country',right_on='Country')\n",
    "\n",
    "    master1 = master1[:15] # Limit to top 15 entries.\n",
    "\n",
    "    master2 = master1.set_index('Country') # Just making 'Country' the index column.\n",
    "    \n",
    "    return master2\n",
    "\n",
    "\n",
    "\n"
   ]
  },
  {
   "cell_type": "markdown",
   "metadata": {},
   "source": [
    "### Question 2 (6.6%)\n",
    "The previous question joined three datasets then reduced this to just the top 15 entries. When you joined the datasets, but before you reduced this to the top 15 items, how many entries did you lose?\n",
    "\n",
    "*This function should return a single number.*"
   ]
  },
  {
   "cell_type": "code",
   "execution_count": 2,
   "metadata": {},
   "outputs": [
    {
     "data": {
      "text/html": [
       "<svg width=\"800\" height=\"300\">\n",
       "  <circle cx=\"150\" cy=\"180\" r=\"80\" fill-opacity=\"0.2\" stroke=\"black\" stroke-width=\"2\" fill=\"blue\" />\n",
       "  <circle cx=\"200\" cy=\"100\" r=\"80\" fill-opacity=\"0.2\" stroke=\"black\" stroke-width=\"2\" fill=\"red\" />\n",
       "  <circle cx=\"100\" cy=\"100\" r=\"80\" fill-opacity=\"0.2\" stroke=\"black\" stroke-width=\"2\" fill=\"green\" />\n",
       "  <line x1=\"150\" y1=\"125\" x2=\"300\" y2=\"150\" stroke=\"black\" stroke-width=\"2\" fill=\"black\" stroke-dasharray=\"5,3\"/>\n",
       "  <text  x=\"300\" y=\"165\" font-family=\"Verdana\" font-size=\"35\">Everything but this!</text>\n",
       "</svg>"
      ],
      "text/plain": [
       "<IPython.core.display.HTML object>"
      ]
     },
     "metadata": {},
     "output_type": "display_data"
    }
   ],
   "source": [
    "%%HTML\n",
    "<svg width=\"800\" height=\"300\">\n",
    "  <circle cx=\"150\" cy=\"180\" r=\"80\" fill-opacity=\"0.2\" stroke=\"black\" stroke-width=\"2\" fill=\"blue\" />\n",
    "  <circle cx=\"200\" cy=\"100\" r=\"80\" fill-opacity=\"0.2\" stroke=\"black\" stroke-width=\"2\" fill=\"red\" />\n",
    "  <circle cx=\"100\" cy=\"100\" r=\"80\" fill-opacity=\"0.2\" stroke=\"black\" stroke-width=\"2\" fill=\"green\" />\n",
    "  <line x1=\"150\" y1=\"125\" x2=\"300\" y2=\"150\" stroke=\"black\" stroke-width=\"2\" fill=\"black\" stroke-dasharray=\"5,3\"/>\n",
    "  <text  x=\"300\" y=\"165\" font-family=\"Verdana\" font-size=\"35\">Everything but this!</text>\n",
    "</svg>"
   ]
  },
  {
   "cell_type": "code",
   "execution_count": 3,
   "metadata": {
    "collapsed": true,
    "umich_part_id": "010",
    "umich_partlist_id": "003"
   },
   "outputs": [],
   "source": [
    "def answer_two():\n",
    "    import pandas as pd\n",
    "    import numpy as np\n",
    "    \n",
    "    energy = pd.read_excel(\"Energy Indicators.xls\",skip_footer=38,skip_header=1,skiprows=17) # Skip header and footer\n",
    "\n",
    "    energy.drop(energy.columns[[0,1]],axis=1,inplace=True) # Drop first 2 columns\n",
    "\n",
    "    energy.columns = ['Country', 'Energy Supply', 'Energy Supply per Capita', '% Renewable']\n",
    "\n",
    "    energy.dropna() # Drop rows with NaN values.\n",
    "\n",
    "    energy['Country'] = energy['Country'].str.replace(r'\\(.*\\)', '') # Remove contents within parenthesis.\n",
    "    energy['Country'] = energy['Country'].str.replace('\\d+', '') # Remove digits from names\n",
    "    \n",
    "    energy['Country'] = energy['Country'].str.strip() # This brings the Iran energy values back!\n",
    "    \n",
    "\n",
    "    # Turn blank values into NaN\n",
    "    for col in energy:\n",
    "        energy[col] = energy[col].replace('...',np.nan)\n",
    "\n",
    "    energy['Country'] = energy['Country'].str.replace('Republic of Korea','South Korea')\n",
    "    energy['Country'] = energy['Country'].str.replace('United States of America','United States')\n",
    "    energy['Country'] = energy['Country'].str.replace('United Kingdom of Great Britain and Northern Ireland','United Kingdom')\n",
    "    energy['Country'] = energy['Country'].str.replace('China, Hong Kong Special Administrative Region','Hong Kong')\n",
    "\n",
    "    # GDP:\n",
    "\n",
    "    GDP = pd.read_csv('world_bank.csv', skiprows=3) # Skip header\n",
    "\n",
    "    # Make first row the column names\n",
    "    new_header = GDP.iloc[0]\n",
    "    GDP = GDP[1:]\n",
    "    GDP.columns = new_header\n",
    "\n",
    "    #GDP = GDP.rename(index=str,columns = {\"Country Name\":\"Country\"})\n",
    "\n",
    "    GDP['Country Name'] = GDP['Country Name'].str.replace('Korea, Rep.','South Korea')\n",
    "    GDP['Country Name'] = GDP['Country Name'].str.replace('Iran, Islamic Rep.','Iran')\n",
    "    GDP['Country Name'] = GDP['Country Name'].str.replace('Hong Kong SAR, China','Hong Kong')\n",
    "\n",
    "    # Change column name from 'Country Name' to 'Country' for merging 3 files on country name.\n",
    "    names = GDP.columns.tolist()\n",
    "    names[names.index('Country Name')] = 'Country'\n",
    "    GDP.columns = names\n",
    "\n",
    "    # Only keep the columns from 2006-15. Drop column number 1 to 50. Don't need country code, etc.\n",
    "    GDP = GDP.drop(GDP.iloc[:,1:50], axis=1)\n",
    "    \n",
    "    GDP.columns = GDP.columns.astype(str).str.split('.').str[0] # Remove '.0' at the end of the year columns.    \n",
    "\n",
    "\n",
    "    # SCIMEN:\n",
    "    ScimEn = pd.read_excel('scimagojr-3.xlsx')\n",
    "    \n",
    "    # LOST ENTRIES = LEN(OUTER JOIN) - LEN(INNER JOIN)\n",
    "    \n",
    "    # Need unique entries in all 3 sets so use concat. Can't do that with a left or right outer join!\n",
    "    num_outer = len(pd.concat([ScimEn['Country'],energy['Country'],GDP['Country']]).unique())\n",
    "    \n",
    "    num_inter = (GDP.merge(energy, left_on='Country', right_on='Country', how='inner').merge(ScimEn, left_on='Country', right_on='Country', how='inner').shape[0])\n",
    "\n",
    "    return num_outer-num_inter\n"
   ]
  },
  {
   "cell_type": "markdown",
   "metadata": {},
   "source": [
    "## Answer the following questions in the context of only the top 15 countries by Scimagojr Rank (aka the DataFrame returned by `answer_one()`)"
   ]
  },
  {
   "cell_type": "markdown",
   "metadata": {},
   "source": [
    "### Question 3 (6.6%)\n",
    "What is the average GDP over the last 10 years for each country? (exclude missing values from this calculation.)\n",
    "\n",
    "*This function should return a Series named `avgGDP` with 15 countries and their average GDP sorted in descending order.*"
   ]
  },
  {
   "cell_type": "code",
   "execution_count": 4,
   "metadata": {
    "collapsed": true,
    "scrolled": true,
    "umich_part_id": "011",
    "umich_partlist_id": "003"
   },
   "outputs": [],
   "source": [
    "def answer_three():\n",
    "    import pandas as pd\n",
    "    Top15 = answer_one()\n",
    "    #Top15.columns = Top15.columns.astype(str) # Turn year column names from numbers to string so you can call it.\n",
    "    \n",
    "    Top15 = Top15.iloc[:,10:] # Cut out all columns except the years.\n",
    "    avgGDP = Top15.mean(axis=1)\n",
    "    return avgGDP.sort_values(ascending=False)\n"
   ]
  },
  {
   "cell_type": "markdown",
   "metadata": {},
   "source": [
    "### Question 4 (6.6%)\n",
    "By how much had the GDP changed over the 10 year span for the country with the 6th largest average GDP?\n",
    "\n",
    "*This function should return a single number.*"
   ]
  },
  {
   "cell_type": "code",
   "execution_count": 5,
   "metadata": {
    "collapsed": true,
    "scrolled": true,
    "umich_part_id": "012",
    "umich_partlist_id": "003"
   },
   "outputs": [],
   "source": [
    "def answer_four():\n",
    "    top10 = answer_three()\n",
    "    top15 = answer_one()\n",
    "    \n",
    "    # Return the country (index) with the 6th largest average GDP. Need to use boolean masking to return the index value.\n",
    "    target_country = top10[top10 == top10[5]].index[0]\n",
    "    \n",
    "    # Change = GDP_2015 - GDP_2006\n",
    "    diff = top15.loc[target_country].iloc[19] - top15.loc[target_country].iloc[10]\n",
    "\n",
    "    return diff\n"
   ]
  },
  {
   "cell_type": "markdown",
   "metadata": {},
   "source": [
    "### Question 5 (6.6%)\n",
    "What is the mean `Energy Supply per Capita`?\n",
    "\n",
    "*This function should return a single number.*"
   ]
  },
  {
   "cell_type": "code",
   "execution_count": 6,
   "metadata": {
    "collapsed": true,
    "umich_part_id": "013",
    "umich_partlist_id": "003"
   },
   "outputs": [],
   "source": [
    "def answer_five():\n",
    "    Top15 = answer_one()\n",
    "    \n",
    "    # Need to return float not numpy 64 float!\n",
    "    return Top15.iloc[:,8].mean()\n"
   ]
  },
  {
   "cell_type": "markdown",
   "metadata": {},
   "source": [
    "### Question 6 (6.6%)\n",
    "What country has the maximum % Renewable and what is the percentage?\n",
    "\n",
    "*This function should return a tuple with the name of the country and the percentage.*"
   ]
  },
  {
   "cell_type": "code",
   "execution_count": 12,
   "metadata": {
    "collapsed": true,
    "umich_part_id": "014",
    "umich_partlist_id": "003"
   },
   "outputs": [],
   "source": [
    "def answer_six():\n",
    "    Top15 = answer_one()\n",
    "    return (Top15.iloc[:,9].idxmax(), Top15.iloc[:,9].max())"
   ]
  },
  {
   "cell_type": "markdown",
   "metadata": {},
   "source": [
    "### Question 7 (6.6%)\n",
    "Create a new column that is the ratio of Self-Citations to Total Citations. \n",
    "What is the maximum value for this new column, and what country has the highest ratio?\n",
    "\n",
    "*This function should return a tuple with the name of the country and the ratio.*"
   ]
  },
  {
   "cell_type": "code",
   "execution_count": 13,
   "metadata": {
    "collapsed": true,
    "umich_part_id": "015",
    "umich_partlist_id": "003"
   },
   "outputs": [],
   "source": [
    "def answer_seven():\n",
    "    Top15 = answer_one()\n",
    "    Top15['Ratio'] = Top15['Self-citations']/Top15['Citations']\n",
    "    return (Top15['Ratio'].idxmax(), Top15['Ratio'].max())\n",
    "\n",
    "    \n",
    "    \n",
    "    \n",
    "    "
   ]
  },
  {
   "cell_type": "markdown",
   "metadata": {},
   "source": [
    "### Question 8 (6.6%)\n",
    "\n",
    "Create a column that estimates the population using Energy Supply and Energy Supply per capita. \n",
    "What is the third most populous country according to this estimate?\n",
    "\n",
    "*This function should return a single string value.*"
   ]
  },
  {
   "cell_type": "code",
   "execution_count": 14,
   "metadata": {
    "collapsed": true,
    "umich_part_id": "016",
    "umich_partlist_id": "003"
   },
   "outputs": [],
   "source": [
    "def answer_eight():\n",
    "    Top15 = answer_one()\n",
    "    Top15['Population Estimate'] = Top15['Energy Supply']/Top15['Energy Supply per Capita']\n",
    "    return Top15['Population Estimate'].sort_values(ascending=False).index[2]\n",
    "\n"
   ]
  },
  {
   "cell_type": "markdown",
   "metadata": {},
   "source": [
    "### Question 9 (6.6%)\n",
    "Create a column that estimates the number of citable documents per person. \n",
    "What is the correlation between the number of citable documents per capita and the energy supply per capita? Use the `.corr()` method, (Pearson's correlation).\n",
    "\n",
    "*This function should return a single number.*\n",
    "\n",
    "*(Optional: Use the built-in function `plot9()` to visualize the relationship between Energy Supply per Capita vs. Citable docs per Capita)*"
   ]
  },
  {
   "cell_type": "code",
   "execution_count": 15,
   "metadata": {
    "collapsed": true,
    "umich_part_id": "017",
    "umich_partlist_id": "003"
   },
   "outputs": [],
   "source": [
    "def answer_nine():\n",
    "    Top15 = answer_one()\n",
    "    Top15['Population Estimate'] = Top15['Energy Supply']/Top15['Energy Supply per Capita']\n",
    "    Top15['Citable Documents per Capita'] = Top15['Citable documents']/Top15['Population Estimate']\n",
    "    \n",
    "    # Need to convert both to float for this to work.\n",
    "    Top15['Citable Documents per Capita'] = Top15['Citable Documents per Capita'].astype(float)\n",
    "    Top15['Energy Supply per Capita'] = Top15['Energy Supply per Capita'].astype(float)\n",
    "    \n",
    "    # Pearson's method is the default one.\n",
    "    return Top15['Citable Documents per Capita'].corr(Top15['Energy Supply per Capita'])\n"
   ]
  },
  {
   "cell_type": "code",
   "execution_count": 16,
   "metadata": {
    "collapsed": true
   },
   "outputs": [],
   "source": [
    "def plot9():\n",
    "    import matplotlib as plt\n",
    "    %matplotlib inline\n",
    "    \n",
    "    Top15 = answer_one()\n",
    "    Top15['PopEst'] = Top15['Energy Supply'] / Top15['Energy Supply per Capita']\n",
    "    Top15['Citable docs per Capita'] = Top15['Citable documents'] / Top15['PopEst']\n",
    "    Top15.plot(x='Citable docs per Capita', y='Energy Supply per Capita', kind='scatter', xlim=[0, 0.0006])\n",
    "                                                                                                "
   ]
  },
  {
   "cell_type": "code",
   "execution_count": 26,
   "metadata": {
    "collapsed": true
   },
   "outputs": [],
   "source": [
    "#plot9() "
   ]
  },
  {
   "cell_type": "markdown",
   "metadata": {},
   "source": [
    "### Question 10 (6.6%)\n",
    "Create a new column with a 1 if the country's % Renewable value is at or above the median for all countries in the top 15, and a 0 if the country's % Renewable value is below the median.\n",
    "\n",
    "*This function should return a series named `HighRenew` whose index is the country name sorted in ascending order of rank.*"
   ]
  },
  {
   "cell_type": "code",
   "execution_count": 19,
   "metadata": {
    "collapsed": true,
    "umich_part_id": "018",
    "umich_partlist_id": "003"
   },
   "outputs": [],
   "source": [
    "def answer_ten():\n",
    "    import numpy as np\n",
    "    Top15 = answer_one()\n",
    "    Top15['HighRenew'] = np.where(Top15['% Renewable'] >= np.median(Top15['% Renewable']),1,0)\n",
    "    \n",
    "    # Dataframe is already sorted by rank.\n",
    "    return Top15['HighRenew']\n",
    "\n",
    "\n"
   ]
  },
  {
   "cell_type": "markdown",
   "metadata": {},
   "source": [
    "### Question 11 (6.6%)\n",
    "Use the following dictionary to group the Countries by Continent, then create a dateframe that displays the sample size (the number of countries in each continent bin), and the sum, mean, and std deviation for the estimated population of each country.\n",
    "\n",
    "```python\n",
    "ContinentDict  = {'China':'Asia', \n",
    "                  'United States':'North America', \n",
    "                  'Japan':'Asia', \n",
    "                  'United Kingdom':'Europe', \n",
    "                  'Russian Federation':'Europe', \n",
    "                  'Canada':'North America', \n",
    "                  'Germany':'Europe', \n",
    "                  'India':'Asia',\n",
    "                  'France':'Europe', \n",
    "                  'South Korea':'Asia', \n",
    "                  'Italy':'Europe', \n",
    "                  'Spain':'Europe', \n",
    "                  'Iran':'Asia',\n",
    "                  'Australia':'Australia', \n",
    "                  'Brazil':'South America'}\n",
    "```\n",
    "\n",
    "*This function should return a DataFrame with index named Continent `['Asia', 'Australia', 'Europe', 'North America', 'South America']` and columns `['size', 'sum', 'mean', 'std']`*"
   ]
  },
  {
   "cell_type": "code",
   "execution_count": 20,
   "metadata": {
    "collapsed": true,
    "umich_part_id": "019",
    "umich_partlist_id": "003"
   },
   "outputs": [],
   "source": [
    "def answer_eleven():\n",
    "    import numpy as np\n",
    "    \n",
    "    Top15 = answer_one()\n",
    "    \n",
    "    ContinentDict  = {'China':'Asia', \n",
    "                  'United States':'North America', \n",
    "                  'Japan':'Asia', \n",
    "                  'United Kingdom':'Europe', \n",
    "                  'Russian Federation':'Europe', \n",
    "                  'Canada':'North America', \n",
    "                  'Germany':'Europe', \n",
    "                  'India':'Asia',\n",
    "                  'France':'Europe', \n",
    "                  'South Korea':'Asia', \n",
    "                  'Italy':'Europe', \n",
    "                  'Spain':'Europe', \n",
    "                  'Iran':'Asia',\n",
    "                  'Australia':'Australia', \n",
    "                  'Brazil':'South America'}\n",
    "    \n",
    "    # Map the dictionary values with the index values.\n",
    "    Top15['Continent'] = Top15.index.to_series().map(ContinentDict)\n",
    "    \n",
    "    # Set to float for numerical operations in the last step.\n",
    "    Top15['Population Estimate'] = (Top15['Energy Supply']/Top15['Energy Supply per Capita']).astype(float)\n",
    "    \n",
    "    # agg appies functions to a group of values.\n",
    "    final = Top15.set_index('Continent').groupby(level = 0)['Population Estimate'].agg({'size':np.size, 'sum':np.sum, 'mean':np.mean, 'std':np.std})\n",
    "    return final\n",
    "\n"
   ]
  },
  {
   "cell_type": "markdown",
   "metadata": {},
   "source": [
    "### Question 12 (6.6%)\n",
    "Cut % Renewable into 5 bins. Group Top15 by the Continent, as well as these new % Renewable bins. How many countries are in each of these groups?\n",
    "\n",
    "*This function should return a __Series__ with a MultiIndex of `Continent`, then the bins for `% Renewable`. Do not include groups with no countries.*"
   ]
  },
  {
   "cell_type": "code",
   "execution_count": 21,
   "metadata": {
    "collapsed": true,
    "scrolled": true
   },
   "outputs": [],
   "source": [
    "def answer_twelve():\n",
    "    import pandas as pd\n",
    "    Top15 = answer_one()\n",
    "    \n",
    "    ContinentDict  = {'China':'Asia', \n",
    "                  'United States':'North America', \n",
    "                  'Japan':'Asia', \n",
    "                  'United Kingdom':'Europe', \n",
    "                  'Russian Federation':'Europe', \n",
    "                  'Canada':'North America', \n",
    "                  'Germany':'Europe', \n",
    "                  'India':'Asia',\n",
    "                  'France':'Europe', \n",
    "                  'South Korea':'Asia', \n",
    "                  'Italy':'Europe', \n",
    "                  'Spain':'Europe', \n",
    "                  'Iran':'Asia',\n",
    "                  'Australia':'Australia', \n",
    "                  'Brazil':'South America'}\n",
    "    \n",
    "    # Map the dictionary values with the index values.\n",
    "    Top15['Continent'] = Top15.index.to_series().map(ContinentDict)\n",
    "    \n",
    "    Top15['Bins'] = pd.cut(Top15['% Renewable'],5) # The ENTIRE range of % Renewable is split into 5 bins.\n",
    "    \n",
    "    return Top15.groupby(['Continent','Bins']).size() # The entire range of bins is then grouped by continent.\n"
   ]
  },
  {
   "cell_type": "markdown",
   "metadata": {},
   "source": [
    "### Question 13 (6.6%)\n",
    "Convert the Population Estimate series to a string with thousands separator (using commas). Do not round the results.\n",
    "\n",
    "e.g. 317615384.61538464 -> 317,615,384.61538464\n",
    "\n",
    "*This function should return a Series `PopEst` whose index is the country name and whose values are the population estimate string.*"
   ]
  },
  {
   "cell_type": "code",
   "execution_count": 22,
   "metadata": {
    "collapsed": true,
    "scrolled": true,
    "umich_part_id": "020",
    "umich_partlist_id": "003"
   },
   "outputs": [],
   "source": [
    "def answer_thirteen():\n",
    "    Top15 = answer_one()\n",
    "    \n",
    "    Top15['PopEst'] = (Top15['Energy Supply']/Top15['Energy Supply per Capita'])\n",
    "    \n",
    "    # Formula for adding comma separators.\n",
    "    return Top15['PopEst'].apply(lambda x: '{0:,}'.format(x)).astype(str)\n"
   ]
  },
  {
   "cell_type": "markdown",
   "metadata": {},
   "source": [
    "### Optional\n",
    "\n",
    "Use the built in function `plot_optional()` to see an example visualization."
   ]
  },
  {
   "cell_type": "code",
   "execution_count": 23,
   "metadata": {
    "collapsed": true,
    "scrolled": true
   },
   "outputs": [],
   "source": [
    "def plot_optional():\n",
    "    import matplotlib as plt\n",
    "    %matplotlib inline\n",
    "    Top15 = answer_one()\n",
    "    ax = Top15.plot(x='Rank', y='% Renewable', kind='scatter', \n",
    "                    c=['#e41a1c','#377eb8','#e41a1c','#4daf4a','#4daf4a','#377eb8','#4daf4a','#e41a1c',\n",
    "                       '#4daf4a','#e41a1c','#4daf4a','#4daf4a','#e41a1c','#dede00','#ff7f00'], \n",
    "                    xticks=range(1,16), s=6*Top15['2014']/10**10, alpha=.75, figsize=[16,6]);\n",
    "\n",
    "    for i, txt in enumerate(Top15.index):\n",
    "        ax.annotate(txt, [Top15['Rank'][i], Top15['% Renewable'][i]], ha='center')\n",
    "\n",
    "    print(\"This is an example of a visualization that can be created to help understand the data. \\\n",
    "This is a bubble chart showing % Renewable vs. Rank. The size of the bubble corresponds to the countries' \\\n",
    "2014 GDP, and the color corresponds to the continent.\")"
   ]
  },
  {
   "cell_type": "code",
   "execution_count": 25,
   "metadata": {
    "collapsed": true
   },
   "outputs": [],
   "source": [
    "#plot_optional() "
   ]
  },
  {
   "cell_type": "code",
   "execution_count": null,
   "metadata": {
    "collapsed": true
   },
   "outputs": [],
   "source": []
  },
  {
   "cell_type": "code",
   "execution_count": null,
   "metadata": {
    "collapsed": true
   },
   "outputs": [],
   "source": []
  },
  {
   "cell_type": "code",
   "execution_count": null,
   "metadata": {
    "collapsed": true
   },
   "outputs": [],
   "source": []
  },
  {
   "cell_type": "code",
   "execution_count": null,
   "metadata": {
    "collapsed": true
   },
   "outputs": [],
   "source": []
  },
  {
   "cell_type": "code",
   "execution_count": null,
   "metadata": {
    "collapsed": true
   },
   "outputs": [],
   "source": []
  }
 ],
 "metadata": {
  "anaconda-cloud": {},
  "coursera": {
   "course_slug": "python-data-analysis",
   "graded_item_id": "zAr06",
   "launcher_item_id": "KSSjT",
   "part_id": "SL3fU"
  },
  "kernelspec": {
   "display_name": "Python 3",
   "language": "python",
   "name": "python3"
  },
  "language_info": {
   "codemirror_mode": {
    "name": "ipython",
    "version": 3
   },
   "file_extension": ".py",
   "mimetype": "text/x-python",
   "name": "python",
   "nbconvert_exporter": "python",
   "pygments_lexer": "ipython3",
   "version": "3.6.2"
  },
  "umich": {
   "id": "Assignment 3",
   "version": "1.5"
  }
 },
 "nbformat": 4,
 "nbformat_minor": 1
}
